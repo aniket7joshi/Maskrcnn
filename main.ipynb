{
 "cells": [
  {
   "cell_type": "code",
   "execution_count": 2,
   "metadata": {},
   "outputs": [],
   "source": [
    "import tensorflow as tf\n",
    "from tensorflow import keras\n",
    "from functools import partial\n",
    "import os, json, jsonpickle\n",
    "import numpy as np\n",
    "import cv2\n",
    "from PIL import Image\n",
    "from csv_creator import make_csv\n",
    "from tfrecord_creator import create_tfrecords\n",
    "# from tfrecord_parser import parse_tfrecords"
   ]
  },
  {
   "cell_type": "code",
   "execution_count": 3,
   "metadata": {},
   "outputs": [
    {
     "name": "stderr",
     "output_type": "stream",
     "text": [
      " 12%|███████                                                   | 242/2000 [00:00<00:00, 2416.15it/s]"
     ]
    },
    {
     "name": "stdout",
     "output_type": "stream",
     "text": [
      "\n",
      "Finding Training images\n"
     ]
    },
    {
     "name": "stderr",
     "output_type": "stream",
     "text": [
      "100%|█████████████████████████████████████████████████████████| 2000/2000 [00:00<00:00, 2810.42it/s]\n",
      "  0%|                                                                      | 0/2000 [00:00<?, ?it/s]"
     ]
    },
    {
     "name": "stdout",
     "output_type": "stream",
     "text": [
      "\n",
      "Processing Training Images\n"
     ]
    },
    {
     "name": "stderr",
     "output_type": "stream",
     "text": [
      "100%|██████████████████████████████████████████████████████████| 2000/2000 [00:14<00:00, 141.00it/s]\n",
      "100%|███████████████████████████████████████████████████████| 2000/2000 [00:00<00:00, 304243.73it/s]\n"
     ]
    },
    {
     "name": "stdout",
     "output_type": "stream",
     "text": [
      "\n",
      "Processing Training Annotations\n"
     ]
    },
    {
     "data": {
      "text/plain": [
       "('7c51c69214246f19', '/tmp/dataset.csv', '/tmp/dataset.json')"
      ]
     },
     "execution_count": 3,
     "metadata": {},
     "output_type": "execute_result"
    }
   ],
   "source": [
    "make_csv(train_images_dir='../../mask_data/cig_butts/train/images/',\n",
    "    train_anno_dir='../../mask_data/cig_butts/train/coco_annotations.json',\n",
    "    annotation_format='coco',\n",
    "    split=0.5)"
   ]
  },
  {
   "cell_type": "code",
   "execution_count": 4,
   "metadata": {},
   "outputs": [
    {
     "name": "stdout",
     "output_type": "stream",
     "text": [
      ">> Converting image 1000/1000 shard 3\n",
      ">> Converting image 1000/1000 shard 3\n"
     ]
    },
    {
     "data": {
      "text/plain": [
       "{'task_type': 'instance_segmentation',\n",
       " 'train_image_dir': '../../mask_data/cig_butts/train/images/',\n",
       " 'train_anno_dir': '../../mask_data/cig_butts/train/coco_annotations.json',\n",
       " 'val_image_dir': None,\n",
       " 'val_anno_dir': None,\n",
       " 'num_classes': 1,\n",
       " 'classes': ['cig_butt'],\n",
       " 'num_training_images': 0,\n",
       " 'num_test_images': 0,\n",
       " 'tfrecord_path': '/tmp/'}"
      ]
     },
     "execution_count": 4,
     "metadata": {},
     "output_type": "execute_result"
    }
   ],
   "source": [
    "create_tfrecords('/tmp/dataset.json','/tmp/dataset.csv')"
   ]
  },
  {
   "cell_type": "code",
   "execution_count": 4,
   "metadata": {},
   "outputs": [
    {
     "name": "stdout",
     "output_type": "stream",
     "text": [
      "(None, None, None) FixedLenFeature(shape=[], dtype=tf.int64, default_value=None) FixedLenFeature(shape=[], dtype=tf.int64, default_value=None)\n"
     ]
    }
   ],
   "source": [
    "dataset = parse_tfrecords(\n",
    "        filenames='/tmp/*.tfrecord', \n",
    "        batch_size=2,\n",
    "        num_classes=5)"
   ]
  },
  {
   "cell_type": "code",
   "execution_count": null,
   "metadata": {},
   "outputs": [],
   "source": [
    "for data, annotation in dataset.take(10):\n",
    "    image_batch = data.numpy()\n",
    "    ann = annotation['label_batch'].numpy()\n",
    "    print(ann)\n",
    "    print(image_batch.shape)"
   ]
  },
  {
   "cell_type": "code",
   "execution_count": null,
   "metadata": {},
   "outputs": [],
   "source": []
  }
 ],
 "metadata": {
  "kernelspec": {
   "display_name": "cral",
   "language": "python",
   "name": "cral"
  }
 },
 "nbformat": 4,
 "nbformat_minor": 2
}
