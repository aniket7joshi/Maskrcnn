{
 "cells": [
  {
   "cell_type": "code",
   "execution_count": 1,
   "metadata": {},
   "outputs": [],
   "source": [
    "import tensorflow as tf\n",
    "from tensorflow import keras\n",
    "from functools import partial\n",
    "import os, json, jsonpickle\n",
    "import numpy as np\n",
    "import cv2\n",
    "from PIL import Image\n",
    "from csv_creator import make_csv\n",
    "from tfrecord_creator import create_tfrecords\n",
    "from tfrecord_parser import parse_tfrecords"
   ]
  },
  {
   "cell_type": "code",
   "execution_count": 2,
   "metadata": {},
   "outputs": [],
   "source": [
    "# make_csv(train_images_dir='../../mask_data/coco/val2017/',\n",
    "#     train_anno_dir='../../mask_data/coco/annotations/instances_val2017.json',\n",
    "#     annotation_format='coco',\n",
    "#     split=0.5)"
   ]
  },
  {
   "cell_type": "code",
   "execution_count": 3,
   "metadata": {},
   "outputs": [],
   "source": [
    "# create_tfrecords('/tmp/dataset.json','/tmp/dataset.csv')"
   ]
  },
  {
   "cell_type": "code",
   "execution_count": 4,
   "metadata": {},
   "outputs": [
    {
     "name": "stdout",
     "output_type": "stream",
     "text": [
      "(None, None, None) FixedLenFeature(shape=[], dtype=tf.int64, default_value=None) FixedLenFeature(shape=[], dtype=tf.int64, default_value=None)\n"
     ]
    }
   ],
   "source": [
    "dataset = parse_tfrecords(\n",
    "        filenames='/tmp/*.tfrecord', \n",
    "        batch_size=2,\n",
    "        num_classes=5)"
   ]
  },
  {
   "cell_type": "code",
   "execution_count": 5,
   "metadata": {},
   "outputs": [
    {
     "name": "stdout",
     "output_type": "stream",
     "text": [
      "[[21 49 53]\n",
      " [20 -1 -1]]\n",
      "(2, 500, 500, 3)\n",
      "[[49 33 -1 -1 -1 -1 -1 -1 -1]\n",
      " [13 49 49 49 49 49 49 49 49]]\n",
      "(2, 640, 640, 3)\n",
      "[[20 -1]\n",
      " [49 33]]\n",
      "(2, 480, 640, 3)\n",
      "[[21 49 53 -1 -1 -1 -1 -1 -1]\n",
      " [13 49 49 49 49 49 49 49 49]]\n",
      "(2, 640, 554, 3)\n",
      "[[21 49 53]\n",
      " [49 33 -1]]\n",
      "(2, 500, 640, 3)\n",
      "[[20 -1 -1 -1 -1 -1 -1 -1 -1]\n",
      " [13 49 49 49 49 49 49 49 49]]\n",
      "(2, 640, 554, 3)\n",
      "[[49 33 -1]\n",
      " [21 49 53]]\n",
      "(2, 500, 640, 3)\n",
      "[[20 -1]\n",
      " [49 33]]\n",
      "(2, 480, 640, 3)\n",
      "[[20 -1 -1]\n",
      " [21 49 53]]\n",
      "(2, 500, 500, 3)\n",
      "[[20 -1 -1]\n",
      " [21 49 53]]\n",
      "(2, 500, 500, 3)\n"
     ]
    }
   ],
   "source": [
    "for data, annotation in dataset.take(10):\n",
    "    image_batch = data.numpy()\n",
    "    ann = annotation['label_batch'].numpy()\n",
    "    print(ann)\n",
    "    print(image_batch.shape)"
   ]
  },
  {
   "cell_type": "code",
   "execution_count": null,
   "metadata": {},
   "outputs": [],
   "source": []
  }
 ],
 "metadata": {
  "kernelspec": {
   "display_name": "cral",
   "language": "python",
   "name": "cral"
  },
  "language_info": {
   "codemirror_mode": {
    "name": "ipython",
    "version": 3
   },
   "file_extension": ".py",
   "mimetype": "text/x-python",
   "name": "python",
   "nbconvert_exporter": "python",
   "pygments_lexer": "ipython3",
   "version": "3.6.11"
  }
 },
 "nbformat": 4,
 "nbformat_minor": 2
}
